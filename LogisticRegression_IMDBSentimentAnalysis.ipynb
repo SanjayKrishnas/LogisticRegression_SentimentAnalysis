{
 "cells": [
  {
   "cell_type": "markdown",
   "id": "ee416b81-c21d-4092-bb6d-b8b5579e183a",
   "metadata": {},
   "source": [
    "%pip install --user -U nltk"
   ]
  },
  {
   "cell_type": "markdown",
   "id": "32b55d01-5b3e-4f18-915f-2713f019d183",
   "metadata": {},
   "source": [
    "%pip install spacy"
   ]
  },
  {
   "cell_type": "markdown",
   "id": "3aac0161-097b-45a5-a12d-e41a5207b3cf",
   "metadata": {},
   "source": [
    "%pip install --upgrade spacy pydantic\n",
    "\n",
    "%python -m spacy download en_core_web_sm"
   ]
  },
  {
   "cell_type": "code",
   "execution_count": 33,
   "id": "f40ff43b",
   "metadata": {},
   "outputs": [],
   "source": [
    "import warnings\n",
    "warnings.filterwarnings('ignore')\n",
    "import pandas as pd\n",
    "import numpy as np\n",
    "import os\n",
    "\n",
    "import nltk #natural language processing library\n",
    "from nltk.corpus import stopwords #stop words is a list with all useless words\n",
    "from nltk.tokenize import RegexpTokenizer #get root words of other words\n",
    "import re #regEx - get substrings from a whole strings\n",
    "\n",
    "from datetime import datetime #calendar dates\n",
    "from time import time\n",
    "\n",
    "#get split of data\n",
    "from sklearn.model_selection import train_test_split\n",
    "#models\n",
    "from sklearn.naive_bayes import GaussianNB\n",
    "#analyze models\n",
    "from sklearn.metrics import accuracy_score, recall_score, precision_score, f1_score, pairwise_distances\n",
    "#see the accuracy in plot form\n",
    "from sklearn.metrics import confusion_matrix\n",
    "\n",
    "#visualization stuff\n",
    "import matplotlib.pyplot as plt\n",
    "import seaborn as sns\n",
    "from tqdm import tqdm\n",
    "\n",
    "#analyze text"
   ]
  },
  {
   "cell_type": "markdown",
   "id": "acea7e85-0a31-4c02-a5e4-ce370b751589",
   "metadata": {},
   "source": [
    "import spacy"
   ]
  },
  {
   "cell_type": "markdown",
   "id": "b49ad985-5f27-403f-b8c4-84c360214f9e",
   "metadata": {},
   "source": [
    "nltk.download('punkt') #tokenizer + stopwords for all lang.\n",
    "nltk.download('stopwords')"
   ]
  },
  {
   "cell_type": "code",
   "execution_count": 56,
   "id": "e76c6398",
   "metadata": {},
   "outputs": [],
   "source": [
    "#loading in the data\n",
    "df = pd.read_csv(\"IMDB Dataset.csv\")"
   ]
  },
  {
   "cell_type": "code",
   "execution_count": 58,
   "id": "3682c18f",
   "metadata": {},
   "outputs": [
    {
     "data": {
      "text/html": [
       "<div>\n",
       "<style scoped>\n",
       "    .dataframe tbody tr th:only-of-type {\n",
       "        vertical-align: middle;\n",
       "    }\n",
       "\n",
       "    .dataframe tbody tr th {\n",
       "        vertical-align: top;\n",
       "    }\n",
       "\n",
       "    .dataframe thead th {\n",
       "        text-align: right;\n",
       "    }\n",
       "</style>\n",
       "<table border=\"1\" class=\"dataframe\">\n",
       "  <thead>\n",
       "    <tr style=\"text-align: right;\">\n",
       "      <th></th>\n",
       "      <th>review</th>\n",
       "      <th>sentiment</th>\n",
       "    </tr>\n",
       "  </thead>\n",
       "  <tbody>\n",
       "    <tr>\n",
       "      <th>0</th>\n",
       "      <td>One of the other reviewers has mentioned that after watching just 1 Oz episode you'll be hooked. They are right, as this is exactly what happened with me.&lt;br /&gt;&lt;br /&gt;The first thing that struck me about Oz was its brutality and unflinching scenes of violence, which set in right from the word GO. Trust me, this is not a show for the faint hearted or timid. This show pulls no punches with regards to drugs, sex or violence. Its is hardcore, in the classic use of the word.&lt;br /&gt;&lt;br /&gt;It is called OZ as that is the nickname given to the Oswald Maximum Security State Penitentary. It focuses mainly on Emerald City, an experimental section of the prison where all the cells have glass fronts and face inwards, so privacy is not high on the agenda. Em City is home to many..Aryans, Muslims, gangstas, Latinos, Christians, Italians, Irish and more....so scuffles, death stares, dodgy dealings and shady agreements are never far away.&lt;br /&gt;&lt;br /&gt;I would say the main appeal of the show is due to the fact that it goes where other shows wouldn't dare. Forget pretty pictures painted for mainstream audiences, forget charm, forget romance...OZ doesn't mess around. The first episode I ever saw struck me as so nasty it was surreal, I couldn't say I was ready for it, but as I watched more, I developed a taste for Oz, and got accustomed to the high levels of graphic violence. Not just violence, but injustice (crooked guards who'll be sold out for a nickel, inmates who'll kill on order and get away with it, well mannered, middle class inmates being turned into prison bitches due to their lack of street skills or prison experience) Watching Oz, you may become comfortable with what is uncomfortable viewing....thats if you can get in touch with your darker side.</td>\n",
       "      <td>positive</td>\n",
       "    </tr>\n",
       "    <tr>\n",
       "      <th>1</th>\n",
       "      <td>A wonderful little production. &lt;br /&gt;&lt;br /&gt;The filming technique is very unassuming- very old-time-BBC fashion and gives a comforting, and sometimes discomforting, sense of realism to the entire piece. &lt;br /&gt;&lt;br /&gt;The actors are extremely well chosen- Michael Sheen not only \"has got all the polari\" but he has all the voices down pat too! You can truly see the seamless editing guided by the references to Williams' diary entries, not only is it well worth the watching but it is a terrificly written and performed piece. A masterful production about one of the great master's of comedy and his life. &lt;br /&gt;&lt;br /&gt;The realism really comes home with the little things: the fantasy of the guard which, rather than use the traditional 'dream' techniques remains solid then disappears. It plays on our knowledge and our senses, particularly with the scenes concerning Orton and Halliwell and the sets (particularly of their flat with Halliwell's murals decorating every surface) are terribly well done.</td>\n",
       "      <td>positive</td>\n",
       "    </tr>\n",
       "    <tr>\n",
       "      <th>2</th>\n",
       "      <td>I thought this was a wonderful way to spend time on a too hot summer weekend, sitting in the air conditioned theater and watching a light-hearted comedy. The plot is simplistic, but the dialogue is witty and the characters are likable (even the well bread suspected serial killer). While some may be disappointed when they realize this is not Match Point 2: Risk Addiction, I thought it was proof that Woody Allen is still fully in control of the style many of us have grown to love.&lt;br /&gt;&lt;br /&gt;This was the most I'd laughed at one of Woody's comedies in years (dare I say a decade?). While I've never been impressed with Scarlet Johanson, in this she managed to tone down her \"sexy\" image and jumped right into a average, but spirited young woman.&lt;br /&gt;&lt;br /&gt;This may not be the crown jewel of his career, but it was wittier than \"Devil Wears Prada\" and more interesting than \"Superman\" a great comedy to go see with friends.</td>\n",
       "      <td>positive</td>\n",
       "    </tr>\n",
       "    <tr>\n",
       "      <th>3</th>\n",
       "      <td>Basically there's a family where a little boy (Jake) thinks there's a zombie in his closet &amp; his parents are fighting all the time.&lt;br /&gt;&lt;br /&gt;This movie is slower than a soap opera... and suddenly, Jake decides to become Rambo and kill the zombie.&lt;br /&gt;&lt;br /&gt;OK, first of all when you're going to make a film you must Decide if its a thriller or a drama! As a drama the movie is watchable. Parents are divorcing &amp; arguing like in real life. And then we have Jake with his closet which totally ruins all the film! I expected to see a BOOGEYMAN similar movie, and instead i watched a drama with some meaningless thriller spots.&lt;br /&gt;&lt;br /&gt;3 out of 10 just for the well playing parents &amp; descent dialogs. As for the shots with Jake: just ignore them.</td>\n",
       "      <td>negative</td>\n",
       "    </tr>\n",
       "    <tr>\n",
       "      <th>4</th>\n",
       "      <td>Petter Mattei's \"Love in the Time of Money\" is a visually stunning film to watch. Mr. Mattei offers us a vivid portrait about human relations. This is a movie that seems to be telling us what money, power and success do to people in the different situations we encounter. &lt;br /&gt;&lt;br /&gt;This being a variation on the Arthur Schnitzler's play about the same theme, the director transfers the action to the present time New York where all these different characters meet and connect. Each one is connected in one way, or another to the next person, but no one seems to know the previous point of contact. Stylishly, the film has a sophisticated luxurious look. We are taken to see how these people live and the world they live in their own habitat.&lt;br /&gt;&lt;br /&gt;The only thing one gets out of all these souls in the picture is the different stages of loneliness each one inhabits. A big city is not exactly the best place in which human relations find sincere fulfillment, as one discerns is the case with most of the people we encounter.&lt;br /&gt;&lt;br /&gt;The acting is good under Mr. Mattei's direction. Steve Buscemi, Rosario Dawson, Carol Kane, Michael Imperioli, Adrian Grenier, and the rest of the talented cast, make these characters come alive.&lt;br /&gt;&lt;br /&gt;We wish Mr. Mattei good luck and await anxiously for his next work.</td>\n",
       "      <td>positive</td>\n",
       "    </tr>\n",
       "  </tbody>\n",
       "</table>\n",
       "</div>"
      ],
      "text/plain": [
       "                                                                                                                                                                                                                                                                                                                                                                                                                                                                                                                                                                                                                                                                                                                                                                                                                                                                                                                                                                                                                                                                                                                                                                                                                                                                                                                                                                                                                                                                                                                                                                                                                                                                                                                                                                                                                              review  \\\n",
       "0  One of the other reviewers has mentioned that after watching just 1 Oz episode you'll be hooked. They are right, as this is exactly what happened with me.<br /><br />The first thing that struck me about Oz was its brutality and unflinching scenes of violence, which set in right from the word GO. Trust me, this is not a show for the faint hearted or timid. This show pulls no punches with regards to drugs, sex or violence. Its is hardcore, in the classic use of the word.<br /><br />It is called OZ as that is the nickname given to the Oswald Maximum Security State Penitentary. It focuses mainly on Emerald City, an experimental section of the prison where all the cells have glass fronts and face inwards, so privacy is not high on the agenda. Em City is home to many..Aryans, Muslims, gangstas, Latinos, Christians, Italians, Irish and more....so scuffles, death stares, dodgy dealings and shady agreements are never far away.<br /><br />I would say the main appeal of the show is due to the fact that it goes where other shows wouldn't dare. Forget pretty pictures painted for mainstream audiences, forget charm, forget romance...OZ doesn't mess around. The first episode I ever saw struck me as so nasty it was surreal, I couldn't say I was ready for it, but as I watched more, I developed a taste for Oz, and got accustomed to the high levels of graphic violence. Not just violence, but injustice (crooked guards who'll be sold out for a nickel, inmates who'll kill on order and get away with it, well mannered, middle class inmates being turned into prison bitches due to their lack of street skills or prison experience) Watching Oz, you may become comfortable with what is uncomfortable viewing....thats if you can get in touch with your darker side.   \n",
       "1                                                                                                                                                                                                                                                                                                                                                                                                                                                                                                                                                                                                                                                                                                                                                                                             A wonderful little production. <br /><br />The filming technique is very unassuming- very old-time-BBC fashion and gives a comforting, and sometimes discomforting, sense of realism to the entire piece. <br /><br />The actors are extremely well chosen- Michael Sheen not only \"has got all the polari\" but he has all the voices down pat too! You can truly see the seamless editing guided by the references to Williams' diary entries, not only is it well worth the watching but it is a terrificly written and performed piece. A masterful production about one of the great master's of comedy and his life. <br /><br />The realism really comes home with the little things: the fantasy of the guard which, rather than use the traditional 'dream' techniques remains solid then disappears. It plays on our knowledge and our senses, particularly with the scenes concerning Orton and Halliwell and the sets (particularly of their flat with Halliwell's murals decorating every surface) are terribly well done.   \n",
       "2                                                                                                                                                                                                                                                                                                                                                                                                                                                                                                                                                                                                                                                                                                                                                                                                                                                                     I thought this was a wonderful way to spend time on a too hot summer weekend, sitting in the air conditioned theater and watching a light-hearted comedy. The plot is simplistic, but the dialogue is witty and the characters are likable (even the well bread suspected serial killer). While some may be disappointed when they realize this is not Match Point 2: Risk Addiction, I thought it was proof that Woody Allen is still fully in control of the style many of us have grown to love.<br /><br />This was the most I'd laughed at one of Woody's comedies in years (dare I say a decade?). While I've never been impressed with Scarlet Johanson, in this she managed to tone down her \"sexy\" image and jumped right into a average, but spirited young woman.<br /><br />This may not be the crown jewel of his career, but it was wittier than \"Devil Wears Prada\" and more interesting than \"Superman\" a great comedy to go see with friends.   \n",
       "3                                                                                                                                                                                                                                                                                                                                                                                                                                                                                                                                                                                                                                                                                                                                                                                                                                                                                                                                                                                                                                                       Basically there's a family where a little boy (Jake) thinks there's a zombie in his closet & his parents are fighting all the time.<br /><br />This movie is slower than a soap opera... and suddenly, Jake decides to become Rambo and kill the zombie.<br /><br />OK, first of all when you're going to make a film you must Decide if its a thriller or a drama! As a drama the movie is watchable. Parents are divorcing & arguing like in real life. And then we have Jake with his closet which totally ruins all the film! I expected to see a BOOGEYMAN similar movie, and instead i watched a drama with some meaningless thriller spots.<br /><br />3 out of 10 just for the well playing parents & descent dialogs. As for the shots with Jake: just ignore them.   \n",
       "4                                                                                                                                                                                                                                                                                                                                                                                                                                                              Petter Mattei's \"Love in the Time of Money\" is a visually stunning film to watch. Mr. Mattei offers us a vivid portrait about human relations. This is a movie that seems to be telling us what money, power and success do to people in the different situations we encounter. <br /><br />This being a variation on the Arthur Schnitzler's play about the same theme, the director transfers the action to the present time New York where all these different characters meet and connect. Each one is connected in one way, or another to the next person, but no one seems to know the previous point of contact. Stylishly, the film has a sophisticated luxurious look. We are taken to see how these people live and the world they live in their own habitat.<br /><br />The only thing one gets out of all these souls in the picture is the different stages of loneliness each one inhabits. A big city is not exactly the best place in which human relations find sincere fulfillment, as one discerns is the case with most of the people we encounter.<br /><br />The acting is good under Mr. Mattei's direction. Steve Buscemi, Rosario Dawson, Carol Kane, Michael Imperioli, Adrian Grenier, and the rest of the talented cast, make these characters come alive.<br /><br />We wish Mr. Mattei good luck and await anxiously for his next work.   \n",
       "\n",
       "  sentiment  \n",
       "0  positive  \n",
       "1  positive  \n",
       "2  positive  \n",
       "3  negative  \n",
       "4  positive  "
      ]
     },
     "execution_count": 58,
     "metadata": {},
     "output_type": "execute_result"
    }
   ],
   "source": [
    "#first 5 observations \n",
    "#Left is the review, and the right is whether pos or neg\n",
    "df.head()"
   ]
  },
  {
   "cell_type": "code",
   "execution_count": 50,
   "id": "5762b442-740b-4441-9e52-6325480589e9",
   "metadata": {},
   "outputs": [],
   "source": [
    "def data_cleaning(df):\n",
    "    \n",
    "    start_1 = time()\n",
    "    \n",
    "    # Removing emtpy cells\n",
    "    df.dropna(inplace=True)\n",
    "    df['review_cleaned'] = df['review'].copy()\n",
    "    \n",
    "    # Removing Unicode Chars (URL)\n",
    "    df['review_cleaned'] = df['review_cleaned'].apply(\n",
    "        lambda rev: re.sub(r\"(\\w+:\\/\\/\\S+)|^rt|http.+?\", \"\", rev))\n",
    "        \n",
    "    # Replace HTML keywords with blank space (\"&quot;\", \"br\", \"&#34\")\n",
    "    remove_dict = {\"<br /><br />\": \" \", \"<br />\": \" \", \"br \": \"\", \"&quot;\": \" \", \"&#34\": \" \",\n",
    "                   \"<BR>\": \" \", \"_\": \"\"}\n",
    "    for key, val in remove_dict.items():\n",
    "        df['review_cleaned'] = df['review_cleaned'].apply(\n",
    "            lambda x: x.replace(key, val))\n",
    "        \n",
    "    end_1 = time()\n",
    "        \n",
    "    print(f\"\\n######## [{end_1 - start_1:0.2f} secs] Remove URL and HTML Keywords Complete ########\")\n",
    "    \n",
    "    start_2 = time()\n",
    "    \n",
    "    # Remove Punctuations and numbers\n",
    "    tokenizer = RegexpTokenizer(r'\\w+')\n",
    "    df['review_cleaned'] = df['review_cleaned'].apply(\n",
    "        lambda x: ' '.join([word for word in tokenizer.tokenize(x)]))\n",
    "    \n",
    "    remove_dict = {\"0\": \"\", \"1\": \"\", \"2\": \"\", \"3\": \"\", \"4\": \"\", \"5\": \"\", \"6\": \"\", \"7\": \"\", \"8\": \"\", \"9\": \"\",\n",
    "                   \"(\": \"\", \")\":\"\"}\n",
    "    for key, val in remove_dict.items():\n",
    "        df['review_cleaned'] = df['review_cleaned'].apply(\n",
    "            lambda x: x.replace(key, val))\n",
    "    \n",
    "    end_2 = time()\n",
    "    \n",
    "    print(f\"\\n######## [{end_2 - start_2:0.2f} secs] Remove Punctuation and Numbers Complete ########\")\n",
    "    \n",
    "    start_3 = time()\n",
    "    \n",
    "    # Lowercase Words\n",
    "    df['review_cleaned'] = df['review_cleaned'].str.lower()\n",
    "    \n",
    "    end_3 = time()\n",
    "    \n",
    "    print(f\"\\n######## [{end_3 - start_3:0.2f} secs] Lowercase Complete ########\")\n",
    "    \n",
    "    start_4 = time()\n",
    "\n",
    "    # Remove Stop Words.\n",
    "    stop = stopwords.words('english')\n",
    "      \n",
    "    df['review_cleaned'] = df['review_cleaned'].apply(\n",
    "        lambda x: ' '.join([word for word in x.split() if word.strip() not in stop]))\n",
    "    \n",
    "    end_4 = time()\n",
    "    \n",
    "    print(f\"\\n######## [{end_4 - start_4:0.2f} secs] Remove Stop Words Complete ########\")\n",
    "    \n",
    "    start_5 = time()\n",
    "    \n",
    "    # Lemmatization using .lemma_\n",
    "    nlp = spacy.load('en_core_web_sm', disable=['parser', 'ner'])\n",
    "    df['review_cleaned'] = df['review_cleaned'].apply(\n",
    "        lambda x: ' '.join([token.lemma_ for token in nlp(x)]))\n",
    "    \n",
    "    end_5 = time()\n",
    "    \n",
    "    print(f\"\\n######## [{end_5 - start_5:0.2f} secs] Lemmatization Complete ########\")\n",
    "    \n",
    "    return df"
   ]
  },
  {
   "cell_type": "code",
   "execution_count": 52,
   "id": "3c84ae22",
   "metadata": {},
   "outputs": [
    {
     "ename": "NameError",
     "evalue": "name 'spacy' is not defined",
     "output_type": "error",
     "traceback": [
      "\u001b[1;31m---------------------------------------------------------------------------\u001b[0m",
      "\u001b[1;31mNameError\u001b[0m                                 Traceback (most recent call last)",
      "Cell \u001b[1;32mIn[52], line 4\u001b[0m\n\u001b[0;32m      2\u001b[0m stop \u001b[38;5;241m=\u001b[39m stopwords\u001b[38;5;241m.\u001b[39mwords(\u001b[38;5;124m'\u001b[39m\u001b[38;5;124menglish\u001b[39m\u001b[38;5;124m'\u001b[39m) \u001b[38;5;66;03m#english stopwords\u001b[39;00m\n\u001b[0;32m      3\u001b[0m tokenizer \u001b[38;5;241m=\u001b[39m RegexpTokenizer(\u001b[38;5;124mr\u001b[39m\u001b[38;5;124m'\u001b[39m\u001b[38;5;124m\\\u001b[39m\u001b[38;5;124mw+\u001b[39m\u001b[38;5;124m'\u001b[39m)\n\u001b[1;32m----> 4\u001b[0m nlp \u001b[38;5;241m=\u001b[39m spacy\u001b[38;5;241m.\u001b[39mload(\u001b[38;5;124m'\u001b[39m\u001b[38;5;124men_core_web_sm\u001b[39m\u001b[38;5;124m'\u001b[39m, disable\u001b[38;5;241m=\u001b[39m[\u001b[38;5;124m'\u001b[39m\u001b[38;5;124mparser\u001b[39m\u001b[38;5;124m'\u001b[39m, \u001b[38;5;124m'\u001b[39m\u001b[38;5;124mner\u001b[39m\u001b[38;5;124m'\u001b[39m])\n\u001b[0;32m      6\u001b[0m \u001b[38;5;28;01mdef\u001b[39;00m \u001b[38;5;21mremove_urls_html\u001b[39m(text):\n\u001b[0;32m      7\u001b[0m     text \u001b[38;5;241m=\u001b[39m re\u001b[38;5;241m.\u001b[39msub(\u001b[38;5;124mr\u001b[39m\u001b[38;5;124m\"\u001b[39m\u001b[38;5;124m(\u001b[39m\u001b[38;5;124m\\\u001b[39m\u001b[38;5;124mw+:\u001b[39m\u001b[38;5;124m\\\u001b[39m\u001b[38;5;124m/\u001b[39m\u001b[38;5;124m\\\u001b[39m\u001b[38;5;124m/\u001b[39m\u001b[38;5;124m\\\u001b[39m\u001b[38;5;124mS+)|^rt|http.+?\u001b[39m\u001b[38;5;124m\"\u001b[39m, \u001b[38;5;124m\"\u001b[39m\u001b[38;5;124m\"\u001b[39m, text) \u001b[38;5;66;03m#remove urls\u001b[39;00m\n",
      "\u001b[1;31mNameError\u001b[0m: name 'spacy' is not defined"
     ]
    }
   ],
   "source": [
    "# Initialize necessary resources\n",
    "stop = stopwords.words('english') #english stopwords\n",
    "tokenizer = RegexpTokenizer(r'\\w+')\n",
    "nlp = spacy.load('en_core_web_sm', disable=['parser', 'ner'])\n",
    "\n",
    "def remove_urls_html(text):\n",
    "    text = re.sub(r\"(\\w+:\\/\\/\\S+)|^rt|http.+?\", \"\", text) #remove urls\n",
    "    remove_dict = {\"<br /><br />\": \" \", \"<br />\": \" \", \"br \": \"\", \"&quot;\": \" \", \"&#34\": \" \",  \"<BR>\": \" \", \"_\": \"\"} #remove useless stuff\n",
    "    for key, val in remove_dict.items(): #replacing everything\n",
    "        text = text.replace(key, val)\n",
    "    return text\n",
    "\n",
    "def remove_punctuation_numbers(text): #remove all numbers in the reviews\n",
    "    text = ' '.join([word for word in tokenizer.tokenize(text)]) #all root words\n",
    "    remove_dict = {\"0\": \"\", \"1\": \"\", \"2\": \"\", \"3\": \"\", \"4\": \"\", \"5\": \"\", \"6\": \"\", \"7\": \"\", \"8\": \"\", \"9\": \"\",\n",
    "                   \"(\": \"\", \")\":\"\"}\n",
    "    for key, val in remove_dict.items():\n",
    "        text = text.replace(key, val)\n",
    "    return text\n",
    "\n",
    "def lowercase(text):\n",
    "    return text.lower()\n",
    "\n",
    "def remove_stopwords(text): #already have roots by applying prev func ^^\n",
    "    return ' '.join([word for word in text.split() if word.strip() not in stop]) #remove all irrelevant/stop (the) words\n",
    "\n",
    "def lemmatize(text):\n",
    "    return ' '.join([token.lemma_ for token in nlp(text)])"
   ]
  },
  {
   "cell_type": "code",
   "execution_count": null,
   "id": "32d4d11f",
   "metadata": {},
   "outputs": [],
   "source": [
    "def data_cleaning(df):\n",
    "    start_1 = time()\n",
    "    df.dropna(inplace=True)\n",
    "    df['review_cleaned'] = df['review'].copy()\n",
    "    \n",
    "    df['review_cleaned'] = df['review_cleaned'].apply(remove_urls_html)\n",
    "    end_1 = time()\n",
    "    print(f\"\\n######## [{end_1 - start_1:0.2f} secs] Remove URL and HTML Keywords Complete ########\")\n",
    "    \n",
    "    start_2 = time()\n",
    "    df['review_cleaned'] = df['review_cleaned'].apply(remove_punctuation_numbers)\n",
    "    end_2 = time()\n",
    "    print(f\"\\n######## [{end_2 - start_2:0.2f} secs] Remove Punctuation and Numbers Complete ########\")\n",
    "    \n",
    "    start_3 = time()\n",
    "    df['review_cleaned'] = df['review_cleaned'].apply(lowercase)\n",
    "    end_3 = time()\n",
    "    print(f\"\\n######## [{end_3 - start_3:0.2f} secs] Lowercase Complete ########\")\n",
    "    \n",
    "    start_4 = time()\n",
    "    df['review_cleaned'] = df['review_cleaned'].apply(remove_stopwords)\n",
    "    end_4 = time()\n",
    "    print(f\"\\n######## [{end_4 - start_4:0.2f} secs] Remove Stop Words Complete ########\")\n",
    "    \n",
    "    start_5 = time()\n",
    "    df['review_cleaned'] = df['review_cleaned'].apply(lemmatize)\n",
    "    end_5 = time()\n",
    "    print(f\"\\n######## [{end_5 - start_5:0.2f} secs] Lemmatization Complete ########\")\n",
    "    \n",
    "    return df ##your actually applying the functions from prev cell"
   ]
  },
  {
   "cell_type": "code",
   "execution_count": null,
   "id": "6b89db40",
   "metadata": {},
   "outputs": [],
   "source": [
    "#everything is processed and ready to use\n",
    "cleaned_df = data_cleaning(df)"
   ]
  },
  {
   "cell_type": "code",
   "execution_count": null,
   "id": "e11c204d",
   "metadata": {},
   "outputs": [],
   "source": [
    "cleaned_df.shape #review clean has the cleaned reviews"
   ]
  },
  {
   "cell_type": "code",
   "execution_count": null,
   "id": "b4c1fee8",
   "metadata": {},
   "outputs": [],
   "source": [
    "cleaned_df.head()"
   ]
  },
  {
   "cell_type": "code",
   "execution_count": null,
   "id": "479fc9c8",
   "metadata": {},
   "outputs": [],
   "source": [
    "sns.countplot(cleaned_df, x = 'sentiment')"
   ]
  },
  {
   "cell_type": "markdown",
   "id": "b8d9314b",
   "metadata": {},
   "source": [
    "Balanced dataset between positive and negative reviews - this is good because don't need to do additional tuning or sampling to handle dataset imbalances"
   ]
  },
  {
   "cell_type": "markdown",
   "id": "42cce22a",
   "metadata": {},
   "source": [
    "Vectorization methods in order to get numerical representations for the text\n",
    "* bag of words\n",
    "* tf-idf\n",
    "* word2vec - word embeddings"
   ]
  },
  {
   "cell_type": "markdown",
   "id": "c98c4259",
   "metadata": {},
   "source": [
    "for training and testing will follow an 80-20 split for training and testing respectively"
   ]
  },
  {
   "cell_type": "code",
   "execution_count": null,
   "id": "ecaef8a5",
   "metadata": {},
   "outputs": [],
   "source": [
    "from sklearn.model_selection import train_test_split\n",
    "from sklearn.feature_extraction.text import TfidfVectorizer\n",
    "from sklearn.linear_model import LogisticRegression\n",
    "from sklearn.metrics import accuracy_score, classification_report"
   ]
  },
  {
   "cell_type": "code",
   "execution_count": null,
   "id": "f0ecaff3",
   "metadata": {},
   "outputs": [],
   "source": [
    "X_train, X_test, y_train, y_test = train_test_split(cleaned_df['review_cleaned'], cleaned_df['sentiment'], test_size=0.2, random_state=42)\n",
    "\n",
    "# Vectorization using TF-IDF\n",
    "vectorizer = TfidfVectorizer(max_features=5000) #this converts the words into numbers so it can be trained\n",
    "X_train_vect = vectorizer.fit_transform(X_train) #search fit\n",
    "X_test_vect = vectorizer.transform(X_test)\n",
    "\n",
    "model = LogisticRegression()\n",
    "model.fit(X_train_vect, y_train) #trains the model\n",
    "\n",
    "y_pred = model.predict(X_test_vect) #predict\n",
    "\n",
    "#get accuracy score\n",
    "print(f'Accuracy: {accuracy_score(y_test, y_pred)}')\n",
    "print(classification_report(y_test, y_pred))"
   ]
  },
  {
   "cell_type": "code",
   "execution_count": null,
   "id": "41ec1755",
   "metadata": {},
   "outputs": [],
   "source": [
    "def clean_single_review(review):\n",
    "    review = remove_urls_html(review)\n",
    "    review = remove_punctuation_numbers(review)\n",
    "    review = lowercase(review)\n",
    "    review = remove_stopwords(review)\n",
    "    review = lemmatize(review)\n",
    "    return review"
   ]
  },
  {
   "cell_type": "code",
   "execution_count": null,
   "id": "e0a3574f",
   "metadata": {},
   "outputs": [],
   "source": [
    "#custom input\n",
    "def test_model(review):\n",
    "    cleaned = clean_single_review(review) #clean text\n",
    "    new_review_vect = vectorizer.transform([cleaned]) #get numerical values\n",
    "    predicted_sentiment = model.predict(new_review_vect) #run prediction/model\n",
    "    return predicted_sentiment #returns neg or pos"
   ]
  },
  {
   "cell_type": "code",
   "execution_count": null,
   "id": "2e7013b2",
   "metadata": {},
   "outputs": [],
   "source": [
    "test_model(\"Hello how are you today?\")"
   ]
  },
  {
   "cell_type": "code",
   "execution_count": null,
   "id": "f4b7b5a6",
   "metadata": {},
   "outputs": [],
   "source": [
    "test_model(\"This is a great product!\")"
   ]
  },
  {
   "cell_type": "code",
   "execution_count": null,
   "id": "8d1afcfd",
   "metadata": {},
   "outputs": [],
   "source": [
    "test_model(\"This product could be better\")"
   ]
  },
  {
   "cell_type": "markdown",
   "id": "6bbe2d5e",
   "metadata": {},
   "source": [
    "---"
   ]
  },
  {
   "cell_type": "code",
   "execution_count": null,
   "id": "84ef7b09",
   "metadata": {},
   "outputs": [],
   "source": [
    "test_model('This was a decent product')"
   ]
  },
  {
   "cell_type": "code",
   "execution_count": null,
   "id": "16a16148",
   "metadata": {},
   "outputs": [],
   "source": [
    "test_model('I have had other products that I think work better than this one')"
   ]
  },
  {
   "cell_type": "code",
   "execution_count": null,
   "id": "816d07ec",
   "metadata": {},
   "outputs": [],
   "source": [
    "test_model('not the best')"
   ]
  },
  {
   "cell_type": "markdown",
   "id": "12f4f34f",
   "metadata": {},
   "source": [
    "Future Work - using bigrams in order to create custom word vectorization model"
   ]
  }
 ],
 "metadata": {
  "kernelspec": {
   "display_name": "Python 3 (ipykernel)",
   "language": "python",
   "name": "python3"
  },
  "language_info": {
   "codemirror_mode": {
    "name": "ipython",
    "version": 3
   },
   "file_extension": ".py",
   "mimetype": "text/x-python",
   "name": "python",
   "nbconvert_exporter": "python",
   "pygments_lexer": "ipython3",
   "version": "3.12.4"
  }
 },
 "nbformat": 4,
 "nbformat_minor": 5
}
